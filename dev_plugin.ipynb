{
 "cells": [
  {
   "cell_type": "code",
   "execution_count": 1,
   "id": "eb5ff3a5-6913-4e32-9092-5fd79885ba25",
   "metadata": {
    "tags": []
   },
   "outputs": [],
   "source": [
    "%load_ext autoreload\n",
    "%autoreload 2"
   ]
  },
  {
   "cell_type": "code",
   "execution_count": 2,
   "id": "8d0ab2eb-5790-4389-979f-0cdcecba4d29",
   "metadata": {
    "tags": []
   },
   "outputs": [],
   "source": [
    "import napari"
   ]
  },
  {
   "cell_type": "code",
   "execution_count": 3,
   "id": "3318a621-c970-4aa9-b479-c83ae9a5b240",
   "metadata": {
    "tags": []
   },
   "outputs": [],
   "source": [
    "# need to execute this cell every time you make changes\n",
    "from src.napari_nunet._widget import *"
   ]
  },
  {
   "cell_type": "code",
   "execution_count": 4,
   "id": "c59cdc0a-3218-4d96-af90-7ccfac5cf56e",
   "metadata": {},
   "outputs": [
    {
     "name": "stderr",
     "output_type": "stream",
     "text": [
      "c:\\Users\\hp\\miniconda3\\envs\\napari\\lib\\site-packages\\napari_tools_menu\\__init__.py:168: FutureWarning: Public access to Window.qt_viewer is deprecated and will be removed in\n",
      "v0.5.0. It is considered an \"implementation detail\" of the napari\n",
      "application, not part of the napari viewer model. If your use case\n",
      "requires access to qt_viewer, please open an issue to discuss.\n",
      "  self.tools_menu = ToolsMenu(self, self.qt_viewer.viewer)\n"
     ]
    }
   ],
   "source": [
    "viewer = napari.Viewer()"
   ]
  },
  {
   "cell_type": "code",
   "execution_count": 6,
   "id": "ae074a0c-d546-4969-996d-8db1a68ab2ab",
   "metadata": {
    "tags": []
   },
   "outputs": [
    {
     "data": {
      "text/plain": [
       "MagicFactory(function=<function nunet_plugin at 0x000001B86C063CA0>, call_button='Run', param_options={'label_head': {'widget_type': 'Label', 'label': '<h1><img src=\"C:/Users/hp/Desktop/PRe/napari-transform/src/resources/Logo_LOB.png\">NU-Net</h1>'}})"
      ]
     },
     "execution_count": 6,
     "metadata": {},
     "output_type": "execute_result"
    }
   ],
   "source": [
    "nunet_plugin"
   ]
  },
  {
   "cell_type": "code",
   "execution_count": 5,
   "id": "47c4c905-3ac1-4a29-afdd-3c7dce11243e",
   "metadata": {
    "tags": []
   },
   "outputs": [
    {
     "data": {
      "text/plain": [
       "<napari._qt.widgets.qt_viewer_dock_widget.QtViewerDockWidget at 0x2173b3c8f70>"
      ]
     },
     "execution_count": 5,
     "metadata": {},
     "output_type": "execute_result"
    }
   ],
   "source": [
    "viewer.window.add_dock_widget(nunet_plugin)"
   ]
  },
  {
   "cell_type": "code",
   "execution_count": null,
   "id": "236e3bd9-c2ab-4daa-a23a-115d1fbb9232",
   "metadata": {},
   "outputs": [],
   "source": []
  }
 ],
 "metadata": {
  "interpreter": {
   "hash": "ce95670fe7490b77d8a31bcb5d182e1b8190cb2ac4e50392541564020f584590"
  },
  "kernelspec": {
   "display_name": "Python 3.9.12 ('napari')",
   "language": "python",
   "name": "python3"
  },
  "language_info": {
   "codemirror_mode": {
    "name": "ipython",
    "version": 3
   },
   "file_extension": ".py",
   "mimetype": "text/x-python",
   "name": "python",
   "nbconvert_exporter": "python",
   "pygments_lexer": "ipython3",
   "version": "3.9.12"
  }
 },
 "nbformat": 4,
 "nbformat_minor": 5
}
