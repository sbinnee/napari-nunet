{
 "cells": [
  {
   "cell_type": "code",
   "execution_count": 59,
   "id": "eb5ff3a5-6913-4e32-9092-5fd79885ba25",
   "metadata": {
    "tags": []
   },
   "outputs": [
    {
     "name": "stdout",
     "output_type": "stream",
     "text": [
      "The autoreload extension is already loaded. To reload it, use:\n",
      "  %reload_ext autoreload\n"
     ]
    }
   ],
   "source": [
    "%load_ext autoreload\n",
    "%autoreload 2"
   ]
  },
  {
   "cell_type": "code",
   "execution_count": 60,
   "id": "8d0ab2eb-5790-4389-979f-0cdcecba4d29",
   "metadata": {
    "tags": []
   },
   "outputs": [],
   "source": [
    "import napari"
   ]
  },
  {
   "cell_type": "code",
   "execution_count": 61,
   "id": "3318a621-c970-4aa9-b479-c83ae9a5b240",
   "metadata": {
    "tags": []
   },
   "outputs": [],
   "source": [
    "# need to execute this cell every time you make changes\n",
    "from nunet.utils import numpy2torch,torch2numpy\n",
    "from src.napari_nunet._widget import *"
   ]
  },
  {
   "cell_type": "code",
   "execution_count": 66,
   "id": "c59cdc0a-3218-4d96-af90-7ccfac5cf56e",
   "metadata": {},
   "outputs": [
    {
     "name": "stderr",
     "output_type": "stream",
     "text": [
      "__init__.py (168): Public access to Window.qt_viewer is deprecated and will be removed in\n",
      "v0.5.0. It is considered an \"implementation detail\" of the napari\n",
      "application, not part of the napari viewer model. If your use case\n",
      "requires access to qt_viewer, please open an issue to discuss.\n",
      "WARNING: QWindowsWindow::setGeometry: Unable to set geometry 1090x686+2+15 (frame: 1108x733-7-23) on QWidgetWindow/\"_QtMainWindowClassWindow\" on \"\\\\.\\DISPLAY1\". Resulting geometry: 1365x859+3+22 (frame: 1383x906-6-16) margins: 9, 38, 9, 9 minimum size: 612x589 MINMAXINFO maxSize=0,0 maxpos=0,0 mintrack=630,636 maxtrack=0,0)\n",
      "WARNING:vispy:QWindowsWindow::setGeometry: Unable to set geometry 1090x686+2+15 (frame: 1108x733-7-23) on QWidgetWindow/\"_QtMainWindowClassWindow\" on \"\\\\.\\DISPLAY1\". Resulting geometry: 1365x859+3+22 (frame: 1383x906-6-16) margins: 9, 38, 9, 9 minimum size: 612x589 MINMAXINFO maxSize=0,0 maxpos=0,0 mintrack=630,636 maxtrack=0,0)\n"
     ]
    }
   ],
   "source": [
    "viewer = napari.Viewer()"
   ]
  },
  {
   "cell_type": "code",
   "execution_count": 6,
   "id": "ae074a0c-d546-4969-996d-8db1a68ab2ab",
   "metadata": {
    "tags": []
   },
   "outputs": [
    {
     "data": {
      "text/plain": [
       "MagicFactory(function=<function nunet_plugin at 0x000001B86C063CA0>, call_button='Run', param_options={'label_head': {'widget_type': 'Label', 'label': '<h1><img src=\"C:/Users/hp/Desktop/PRe/napari-transform/src/resources/Logo_LOB.png\">NU-Net</h1>'}})"
      ]
     },
     "execution_count": 6,
     "metadata": {},
     "output_type": "execute_result"
    }
   ],
   "source": [
    "nunet_plugin"
   ]
  },
  {
   "cell_type": "code",
   "execution_count": 67,
   "id": "47c4c905-3ac1-4a29-afdd-3c7dce11243e",
   "metadata": {
    "tags": []
   },
   "outputs": [
    {
     "ename": "RuntimeError",
     "evalue": "wrapped C/C++ object of type QWidget has been deleted",
     "output_type": "error",
     "traceback": [
      "\u001b[1;31m---------------------------------------------------------------------------\u001b[0m",
      "\u001b[1;31mRuntimeError\u001b[0m                              Traceback (most recent call last)",
      "\u001b[1;32mc:\\Users\\hp\\Desktop\\PRe\\napari-nunet\\dev_plugin.ipynb Cell 6'\u001b[0m in \u001b[0;36m<cell line: 1>\u001b[1;34m()\u001b[0m\n\u001b[1;32m----> <a href='vscode-notebook-cell:/c%3A/Users/hp/Desktop/PRe/napari-nunet/dev_plugin.ipynb#ch0000005?line=0'>1</a>\u001b[0m viewer\u001b[39m.\u001b[39;49mwindow\u001b[39m.\u001b[39;49madd_dock_widget(nunet_plugin)\n",
      "File \u001b[1;32mc:\\Users\\hp\\miniconda3\\envs\\napari\\lib\\site-packages\\napari\\_qt\\qt_main_window.py:791\u001b[0m, in \u001b[0;36mWindow.add_dock_widget\u001b[1;34m(self, widget, name, area, allowed_areas, shortcut, add_vertical_stretch, menu)\u001b[0m\n\u001b[0;32m    <a href='file:///c%3A/Users/hp/miniconda3/envs/napari/lib/site-packages/napari/_qt/qt_main_window.py?line=780'>781</a>\u001b[0m     dock_widget \u001b[39m=\u001b[39m QtViewerDockWidget(\n\u001b[0;32m    <a href='file:///c%3A/Users/hp/miniconda3/envs/napari/lib/site-packages/napari/_qt/qt_main_window.py?line=781'>782</a>\u001b[0m         \u001b[39mself\u001b[39m\u001b[39m.\u001b[39m_qt_viewer,\n\u001b[0;32m    <a href='file:///c%3A/Users/hp/miniconda3/envs/napari/lib/site-packages/napari/_qt/qt_main_window.py?line=782'>783</a>\u001b[0m         widget,\n\u001b[1;32m   (...)\u001b[0m\n\u001b[0;32m    <a href='file:///c%3A/Users/hp/miniconda3/envs/napari/lib/site-packages/napari/_qt/qt_main_window.py?line=787'>788</a>\u001b[0m         add_vertical_stretch\u001b[39m=\u001b[39madd_vertical_stretch,\n\u001b[0;32m    <a href='file:///c%3A/Users/hp/miniconda3/envs/napari/lib/site-packages/napari/_qt/qt_main_window.py?line=788'>789</a>\u001b[0m     )\n\u001b[0;32m    <a href='file:///c%3A/Users/hp/miniconda3/envs/napari/lib/site-packages/napari/_qt/qt_main_window.py?line=789'>790</a>\u001b[0m \u001b[39melse\u001b[39;00m:\n\u001b[1;32m--> <a href='file:///c%3A/Users/hp/miniconda3/envs/napari/lib/site-packages/napari/_qt/qt_main_window.py?line=790'>791</a>\u001b[0m     dock_widget \u001b[39m=\u001b[39m QtViewerDockWidget(\n\u001b[0;32m    <a href='file:///c%3A/Users/hp/miniconda3/envs/napari/lib/site-packages/napari/_qt/qt_main_window.py?line=791'>792</a>\u001b[0m         \u001b[39mself\u001b[39;49m\u001b[39m.\u001b[39;49m_qt_viewer,\n\u001b[0;32m    <a href='file:///c%3A/Users/hp/miniconda3/envs/napari/lib/site-packages/napari/_qt/qt_main_window.py?line=792'>793</a>\u001b[0m         widget,\n\u001b[0;32m    <a href='file:///c%3A/Users/hp/miniconda3/envs/napari/lib/site-packages/napari/_qt/qt_main_window.py?line=793'>794</a>\u001b[0m         name\u001b[39m=\u001b[39;49mname,\n\u001b[0;32m    <a href='file:///c%3A/Users/hp/miniconda3/envs/napari/lib/site-packages/napari/_qt/qt_main_window.py?line=794'>795</a>\u001b[0m         area\u001b[39m=\u001b[39;49marea,\n\u001b[0;32m    <a href='file:///c%3A/Users/hp/miniconda3/envs/napari/lib/site-packages/napari/_qt/qt_main_window.py?line=795'>796</a>\u001b[0m         allowed_areas\u001b[39m=\u001b[39;49mallowed_areas,\n\u001b[0;32m    <a href='file:///c%3A/Users/hp/miniconda3/envs/napari/lib/site-packages/napari/_qt/qt_main_window.py?line=796'>797</a>\u001b[0m         add_vertical_stretch\u001b[39m=\u001b[39;49madd_vertical_stretch,\n\u001b[0;32m    <a href='file:///c%3A/Users/hp/miniconda3/envs/napari/lib/site-packages/napari/_qt/qt_main_window.py?line=797'>798</a>\u001b[0m     )\n\u001b[0;32m    <a href='file:///c%3A/Users/hp/miniconda3/envs/napari/lib/site-packages/napari/_qt/qt_main_window.py?line=799'>800</a>\u001b[0m \u001b[39mself\u001b[39m\u001b[39m.\u001b[39m_add_viewer_dock_widget(dock_widget, menu\u001b[39m=\u001b[39mmenu)\n\u001b[0;32m    <a href='file:///c%3A/Users/hp/miniconda3/envs/napari/lib/site-packages/napari/_qt/qt_main_window.py?line=801'>802</a>\u001b[0m \u001b[39mif\u001b[39;00m \u001b[39mhasattr\u001b[39m(widget, \u001b[39m'\u001b[39m\u001b[39mreset_choices\u001b[39m\u001b[39m'\u001b[39m):\n\u001b[0;32m    <a href='file:///c%3A/Users/hp/miniconda3/envs/napari/lib/site-packages/napari/_qt/qt_main_window.py?line=802'>803</a>\u001b[0m     \u001b[39m# Keep the dropdown menus in the widget in sync with the layer model\u001b[39;00m\n\u001b[0;32m    <a href='file:///c%3A/Users/hp/miniconda3/envs/napari/lib/site-packages/napari/_qt/qt_main_window.py?line=803'>804</a>\u001b[0m     \u001b[39m# if widget has a `reset_choices`, which is true for all magicgui\u001b[39;00m\n\u001b[0;32m    <a href='file:///c%3A/Users/hp/miniconda3/envs/napari/lib/site-packages/napari/_qt/qt_main_window.py?line=804'>805</a>\u001b[0m     \u001b[39m# `CategoricalWidget`s\u001b[39;00m\n",
      "File \u001b[1;32mc:\\Users\\hp\\miniconda3\\envs\\napari\\lib\\site-packages\\napari\\_qt\\widgets\\qt_viewer_dock_widget.py:139\u001b[0m, in \u001b[0;36mQtViewerDockWidget.__init__\u001b[1;34m(self, qt_viewer, widget, name, area, allowed_areas, shortcut, object_name, add_vertical_stretch, close_btn)\u001b[0m\n\u001b[0;32m    <a href='file:///c%3A/Users/hp/miniconda3/envs/napari/lib/site-packages/napari/_qt/widgets/qt_viewer_dock_widget.py?line=136'>137</a>\u001b[0m is_vertical \u001b[39m=\u001b[39m area \u001b[39min\u001b[39;00m {\u001b[39m'\u001b[39m\u001b[39mleft\u001b[39m\u001b[39m'\u001b[39m, \u001b[39m'\u001b[39m\u001b[39mright\u001b[39m\u001b[39m'\u001b[39m}\n\u001b[0;32m    <a href='file:///c%3A/Users/hp/miniconda3/envs/napari/lib/site-packages/napari/_qt/widgets/qt_viewer_dock_widget.py?line=137'>138</a>\u001b[0m widget \u001b[39m=\u001b[39m combine_widgets(widget, vertical\u001b[39m=\u001b[39mis_vertical)\n\u001b[1;32m--> <a href='file:///c%3A/Users/hp/miniconda3/envs/napari/lib/site-packages/napari/_qt/widgets/qt_viewer_dock_widget.py?line=138'>139</a>\u001b[0m \u001b[39mself\u001b[39;49m\u001b[39m.\u001b[39;49msetWidget(widget)\n\u001b[0;32m    <a href='file:///c%3A/Users/hp/miniconda3/envs/napari/lib/site-packages/napari/_qt/widgets/qt_viewer_dock_widget.py?line=139'>140</a>\u001b[0m \u001b[39mif\u001b[39;00m is_vertical \u001b[39mand\u001b[39;00m add_vertical_stretch:\n\u001b[0;32m    <a href='file:///c%3A/Users/hp/miniconda3/envs/napari/lib/site-packages/napari/_qt/widgets/qt_viewer_dock_widget.py?line=140'>141</a>\u001b[0m     \u001b[39mself\u001b[39m\u001b[39m.\u001b[39m_maybe_add_vertical_stretch(widget)\n",
      "File \u001b[1;32mc:\\Users\\hp\\miniconda3\\envs\\napari\\lib\\site-packages\\napari\\_qt\\widgets\\qt_viewer_dock_widget.py:278\u001b[0m, in \u001b[0;36mQtViewerDockWidget.setWidget\u001b[1;34m(self, widget)\u001b[0m\n\u001b[0;32m    <a href='file:///c%3A/Users/hp/miniconda3/envs/napari/lib/site-packages/napari/_qt/widgets/qt_viewer_dock_widget.py?line=275'>276</a>\u001b[0m \u001b[39mdef\u001b[39;00m \u001b[39msetWidget\u001b[39m(\u001b[39mself\u001b[39m, widget):\n\u001b[0;32m    <a href='file:///c%3A/Users/hp/miniconda3/envs/napari/lib/site-packages/napari/_qt/widgets/qt_viewer_dock_widget.py?line=276'>277</a>\u001b[0m     widget\u001b[39m.\u001b[39m_parent \u001b[39m=\u001b[39m \u001b[39mself\u001b[39m\n\u001b[1;32m--> <a href='file:///c%3A/Users/hp/miniconda3/envs/napari/lib/site-packages/napari/_qt/widgets/qt_viewer_dock_widget.py?line=277'>278</a>\u001b[0m     \u001b[39msuper\u001b[39;49m()\u001b[39m.\u001b[39;49msetWidget(widget)\n",
      "\u001b[1;31mRuntimeError\u001b[0m: wrapped C/C++ object of type QWidget has been deleted"
     ]
    }
   ],
   "source": [
    "viewer.window.add_dock_widget(nunet_plugin)"
   ]
  },
  {
   "cell_type": "code",
   "execution_count": null,
   "id": "236e3bd9-c2ab-4daa-a23a-115d1fbb9232",
   "metadata": {},
   "outputs": [],
   "source": []
  }
 ],
 "metadata": {
  "interpreter": {
   "hash": "ce95670fe7490b77d8a31bcb5d182e1b8190cb2ac4e50392541564020f584590"
  },
  "kernelspec": {
   "display_name": "Python 3.9.12 ('napari')",
   "language": "python",
   "name": "python3"
  },
  "language_info": {
   "codemirror_mode": {
    "name": "ipython",
    "version": 3
   },
   "file_extension": ".py",
   "mimetype": "text/x-python",
   "name": "python",
   "nbconvert_exporter": "python",
   "pygments_lexer": "ipython3",
   "version": "3.9.12"
  }
 },
 "nbformat": 4,
 "nbformat_minor": 5
}
