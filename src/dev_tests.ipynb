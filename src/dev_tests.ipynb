{
 "cells": [
  {
   "cell_type": "code",
   "execution_count": 7,
   "metadata": {},
   "outputs": [
    {
     "name": "stderr",
     "output_type": "stream",
     "text": [
      "c:\\Users\\hp\\miniconda3\\envs\\napari\\lib\\site-packages\\napari_tools_menu\\__init__.py:168: FutureWarning: Public access to Window.qt_viewer is deprecated and will be removed in\n",
      "v0.5.0. It is considered an \"implementation detail\" of the napari\n",
      "application, not part of the napari viewer model. If your use case\n",
      "requires access to qt_viewer, please open an issue to discuss.\n",
      "  self.tools_menu = ToolsMenu(self, self.qt_viewer.viewer)\n",
      "WARNING: QWindowsWindow::setGeometry: Unable to set geometry 1090x686+1+15 (frame: 1108x733-8-23) on QWidgetWindow/\"_QtMainWindowClassWindow\" on \"\\\\.\\DISPLAY1\". Resulting geometry: 1365x859+2+22 (frame: 1383x906-7-16) margins: 9, 38, 9, 9 minimum size: 612x589 MINMAXINFO maxSize=0,0 maxpos=0,0 mintrack=630,636 maxtrack=0,0)\n"
     ]
    },
    {
     "name": "stdout",
     "output_type": "stream",
     "text": [
      "[<Image layer 'Image' at 0x2102c3b8970>, <Image layer 'Image [1]' at 0x210248dd310>]\n",
      "hellooooo\n",
      "<class 'int'> 0\n"
     ]
    },
    {
     "data": {
      "text/plain": [
       "<napari._qt.widgets.qt_viewer_dock_widget.QtViewerDockWidget at 0x2102dd6e9d0>"
      ]
     },
     "execution_count": 7,
     "metadata": {},
     "output_type": "execute_result"
    },
    {
     "name": "stdout",
     "output_type": "stream",
     "text": [
      "helloooo1\n",
      "hellooooo\n",
      "<class 'int'> -1\n",
      "helloooo1\n"
     ]
    }
   ],
   "source": [
    "import napari\n",
    "from skimage import data\n",
    "\n",
    "\n",
    "viewer = napari.Viewer()\n",
    "new_layer = viewer.add_image(data.astronaut(), rgb=True)\n",
    "new_layer = viewer.add_image(data.camera(), rgb=False)\n",
    "print(viewer.layers)\n",
    "\n",
    "import napari.layers\n",
    "from magicgui import magicgui\n",
    "\n",
    "\n",
    "@magicgui\n",
    "def widget_image(img_layer: 'napari.layers.Image'):\n",
    "    print(type(img_layer), img_layer)\n",
    "\n",
    "\n",
    "\n",
    "@widget_image.img_layer.native.currentIndexChanged.connect\n",
    "def img_layer_currIndexChanged(val):\n",
    "    print(\"Last one removed\")\n",
    "    print(type(val), val)\n",
    "\n",
    "\n",
    "@viewer.layers.events.removed.connect\n",
    "def img_layer_changed(val):\n",
    "    print(\"One removed\")\n",
    "   \n",
    "\n",
    "viewer.window.add_dock_widget(widget_image)"
   ]
  }
 ],
 "metadata": {
  "interpreter": {
   "hash": "ce95670fe7490b77d8a31bcb5d182e1b8190cb2ac4e50392541564020f584590"
  },
  "kernelspec": {
   "display_name": "Python 3.9.12 ('napari')",
   "language": "python",
   "name": "python3"
  },
  "language_info": {
   "codemirror_mode": {
    "name": "ipython",
    "version": 3
   },
   "file_extension": ".py",
   "mimetype": "text/x-python",
   "name": "python",
   "nbconvert_exporter": "python",
   "pygments_lexer": "ipython3",
   "version": "3.9.12"
  },
  "orig_nbformat": 4
 },
 "nbformat": 4,
 "nbformat_minor": 2
}
